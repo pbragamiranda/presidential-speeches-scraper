{
 "cells": [
  {
   "cell_type": "code",
   "execution_count": 1,
   "id": "committed-linux",
   "metadata": {},
   "outputs": [],
   "source": [
    "import os\n",
    "import re\n",
    "import pandas as pd"
   ]
  },
  {
   "cell_type": "code",
   "execution_count": 74,
   "id": "tough-custom",
   "metadata": {},
   "outputs": [],
   "source": [
    "folder = '/home/blackmamba/code/pbragamiranda/presidential-speeches-scraper/bolsonaro_data/csv_data/' \n",
    "\n",
    "df = pd.DataFrame(columns = ['date', 'title', 'speech'])\n",
    "\n",
    "with os.scandir(folder) as it:\n",
    "    for entry in it:\n",
    "        if entry.name.endswith(\".csv\") and entry.is_file():\n",
    "            df_temp = pd.read_csv(f'{folder}{entry.name}', sep='|', parse_dates=['date'])\n",
    "            df_temp['speech']= df_temp['speech'].astype(str)\n",
    "            df_temp['title']= df_temp['title'].astype(str)\n",
    "            df = pd.concat([df, df_temp], ignore_index=True)\n",
    "             \n",
    "\n",
    "    "
   ]
  },
  {
   "cell_type": "code",
   "execution_count": 75,
   "id": "accessory-nigeria",
   "metadata": {},
   "outputs": [
    {
     "data": {
      "text/plain": [
       "date      datetime64[ns]\n",
       "title             object\n",
       "speech            object\n",
       "dtype: object"
      ]
     },
     "execution_count": 75,
     "metadata": {},
     "output_type": "execute_result"
    }
   ],
   "source": [
    "df.dtypes"
   ]
  },
  {
   "cell_type": "code",
   "execution_count": 76,
   "id": "embedded-herald",
   "metadata": {},
   "outputs": [
    {
     "data": {
      "text/plain": [
       "(371, 3)"
      ]
     },
     "execution_count": 76,
     "metadata": {},
     "output_type": "execute_result"
    }
   ],
   "source": [
    "df.shape"
   ]
  },
  {
   "cell_type": "code",
   "execution_count": 88,
   "id": "spanish-velvet",
   "metadata": {},
   "outputs": [
    {
     "data": {
      "text/plain": [
       "'\\xa0\\nprezado amigo \\nprezado irmão  benjamin netanyahu \\n\\xa0\\nhá dois anos estive em israel  visitei o rio jordão  por coincidência meu nome também é messias  senti me emocionado naquele momento  aceitei o ch'"
      ]
     },
     "execution_count": 88,
     "metadata": {},
     "output_type": "execute_result"
    }
   ],
   "source": [
    "df.iloc[0,2][ 0 : 200 ]"
   ]
  },
  {
   "cell_type": "code",
   "execution_count": 77,
   "id": "czech-peter",
   "metadata": {},
   "outputs": [],
   "source": [
    "lower_alpha = lambda x: x.lower()\n",
    "df['speech'] = df.speech.map(lower_alpha)"
   ]
  },
  {
   "cell_type": "code",
   "execution_count": 78,
   "id": "british-jersey",
   "metadata": {},
   "outputs": [
    {
     "data": {
      "text/html": [
       "<div>\n",
       "<style scoped>\n",
       "    .dataframe tbody tr th:only-of-type {\n",
       "        vertical-align: middle;\n",
       "    }\n",
       "\n",
       "    .dataframe tbody tr th {\n",
       "        vertical-align: top;\n",
       "    }\n",
       "\n",
       "    .dataframe thead th {\n",
       "        text-align: right;\n",
       "    }\n",
       "</style>\n",
       "<table border=\"1\" class=\"dataframe\">\n",
       "  <thead>\n",
       "    <tr style=\"text-align: right;\">\n",
       "      <th></th>\n",
       "      <th>date</th>\n",
       "      <th>title</th>\n",
       "      <th>speech</th>\n",
       "    </tr>\n",
       "  </thead>\n",
       "  <tbody>\n",
       "    <tr>\n",
       "      <th>0</th>\n",
       "      <td>2019-03-31 14:17:00</td>\n",
       "      <td>Discurso do Presidente da República, Jair Bols...</td>\n",
       "      <td>\\nprezado amigo \\nprezado irmão  benjamin net...</td>\n",
       "    </tr>\n",
       "    <tr>\n",
       "      <th>1</th>\n",
       "      <td>2019-07-23 19:20:00</td>\n",
       "      <td>Discurso do Presidente da República, Jair Bols...</td>\n",
       "      <td>\\nbrasília df  23 de julho de 2019\\nmeus senho...</td>\n",
       "    </tr>\n",
       "    <tr>\n",
       "      <th>2</th>\n",
       "      <td>2019-08-27 18:01:00</td>\n",
       "      <td>Fala do Presidente da República, Jair Bolsonar...</td>\n",
       "      <td>palácio do planalto  27 de agosto de 2019\\n \\n...</td>\n",
       "    </tr>\n",
       "    <tr>\n",
       "      <th>3</th>\n",
       "      <td>2019-06-21 16:42:00</td>\n",
       "      <td>Pronunciamento do Presidente da República, Jai...</td>\n",
       "      <td>palácio do planalto  21 de junho de 2019\\n \\n ...</td>\n",
       "    </tr>\n",
       "    <tr>\n",
       "      <th>4</th>\n",
       "      <td>2019-05-24 15:30:00</td>\n",
       "      <td>Discurso do Presidente da República, Jair Bols...</td>\n",
       "      <td>recife pe  24 de maio de 2019\\n \\n \\n \\né uma ...</td>\n",
       "    </tr>\n",
       "  </tbody>\n",
       "</table>\n",
       "</div>"
      ],
      "text/plain": [
       "                 date                                              title  \\\n",
       "0 2019-03-31 14:17:00  Discurso do Presidente da República, Jair Bols...   \n",
       "1 2019-07-23 19:20:00  Discurso do Presidente da República, Jair Bols...   \n",
       "2 2019-08-27 18:01:00  Fala do Presidente da República, Jair Bolsonar...   \n",
       "3 2019-06-21 16:42:00  Pronunciamento do Presidente da República, Jai...   \n",
       "4 2019-05-24 15:30:00  Discurso do Presidente da República, Jair Bols...   \n",
       "\n",
       "                                              speech  \n",
       "0   \\nprezado amigo \\nprezado irmão  benjamin net...  \n",
       "1  \\nbrasília df  23 de julho de 2019\\nmeus senho...  \n",
       "2  palácio do planalto  27 de agosto de 2019\\n \\n...  \n",
       "3  palácio do planalto  21 de junho de 2019\\n \\n ...  \n",
       "4  recife pe  24 de maio de 2019\\n \\n \\n \\né uma ...  "
      ]
     },
     "execution_count": 78,
     "metadata": {},
     "output_type": "execute_result"
    }
   ],
   "source": [
    "import string\n",
    "\n",
    "punc_re = lambda x: re.sub('[%s]' % re.escape(string.punctuation), ' ', x)\n",
    "df['speech'] = df.speech.map(punc_re)\n",
    "\n",
    "df.head()"
   ]
  },
  {
   "cell_type": "code",
   "execution_count": 79,
   "id": "organic-timber",
   "metadata": {},
   "outputs": [
    {
     "name": "stderr",
     "output_type": "stream",
     "text": [
      "[nltk_data] Downloading package punkt to /home/blackmamba/nltk_data...\n",
      "[nltk_data]   Package punkt is already up-to-date!\n"
     ]
    },
    {
     "data": {
      "text/html": [
       "<div>\n",
       "<style scoped>\n",
       "    .dataframe tbody tr th:only-of-type {\n",
       "        vertical-align: middle;\n",
       "    }\n",
       "\n",
       "    .dataframe tbody tr th {\n",
       "        vertical-align: top;\n",
       "    }\n",
       "\n",
       "    .dataframe thead th {\n",
       "        text-align: right;\n",
       "    }\n",
       "</style>\n",
       "<table border=\"1\" class=\"dataframe\">\n",
       "  <thead>\n",
       "    <tr style=\"text-align: right;\">\n",
       "      <th></th>\n",
       "      <th>date</th>\n",
       "      <th>title</th>\n",
       "      <th>speech</th>\n",
       "      <th>tokens</th>\n",
       "    </tr>\n",
       "  </thead>\n",
       "  <tbody>\n",
       "    <tr>\n",
       "      <th>0</th>\n",
       "      <td>2019-03-31 14:17:00</td>\n",
       "      <td>Discurso do Presidente da República, Jair Bols...</td>\n",
       "      <td>\\nprezado amigo \\nprezado irmão  benjamin net...</td>\n",
       "      <td>[prezado, amigo, prezado, irmão, benjamin, net...</td>\n",
       "    </tr>\n",
       "    <tr>\n",
       "      <th>1</th>\n",
       "      <td>2019-07-23 19:20:00</td>\n",
       "      <td>Discurso do Presidente da República, Jair Bols...</td>\n",
       "      <td>\\nbrasília df  23 de julho de 2019\\nmeus senho...</td>\n",
       "      <td>[brasília, df, 23, de, julho, de, 2019, meus, ...</td>\n",
       "    </tr>\n",
       "    <tr>\n",
       "      <th>2</th>\n",
       "      <td>2019-08-27 18:01:00</td>\n",
       "      <td>Fala do Presidente da República, Jair Bolsonar...</td>\n",
       "      <td>palácio do planalto  27 de agosto de 2019\\n \\n...</td>\n",
       "      <td>[palácio, do, planalto, 27, de, agosto, de, 20...</td>\n",
       "    </tr>\n",
       "    <tr>\n",
       "      <th>3</th>\n",
       "      <td>2019-06-21 16:42:00</td>\n",
       "      <td>Pronunciamento do Presidente da República, Jai...</td>\n",
       "      <td>palácio do planalto  21 de junho de 2019\\n \\n ...</td>\n",
       "      <td>[palácio, do, planalto, 21, de, junho, de, 201...</td>\n",
       "    </tr>\n",
       "    <tr>\n",
       "      <th>4</th>\n",
       "      <td>2019-05-24 15:30:00</td>\n",
       "      <td>Discurso do Presidente da República, Jair Bols...</td>\n",
       "      <td>recife pe  24 de maio de 2019\\n \\n \\n \\né uma ...</td>\n",
       "      <td>[recife, pe, 24, de, maio, de, 2019, é, uma, s...</td>\n",
       "    </tr>\n",
       "  </tbody>\n",
       "</table>\n",
       "</div>"
      ],
      "text/plain": [
       "                 date                                              title  \\\n",
       "0 2019-03-31 14:17:00  Discurso do Presidente da República, Jair Bols...   \n",
       "1 2019-07-23 19:20:00  Discurso do Presidente da República, Jair Bols...   \n",
       "2 2019-08-27 18:01:00  Fala do Presidente da República, Jair Bolsonar...   \n",
       "3 2019-06-21 16:42:00  Pronunciamento do Presidente da República, Jai...   \n",
       "4 2019-05-24 15:30:00  Discurso do Presidente da República, Jair Bols...   \n",
       "\n",
       "                                              speech  \\\n",
       "0   \\nprezado amigo \\nprezado irmão  benjamin net...   \n",
       "1  \\nbrasília df  23 de julho de 2019\\nmeus senho...   \n",
       "2  palácio do planalto  27 de agosto de 2019\\n \\n...   \n",
       "3  palácio do planalto  21 de junho de 2019\\n \\n ...   \n",
       "4  recife pe  24 de maio de 2019\\n \\n \\n \\né uma ...   \n",
       "\n",
       "                                              tokens  \n",
       "0  [prezado, amigo, prezado, irmão, benjamin, net...  \n",
       "1  [brasília, df, 23, de, julho, de, 2019, meus, ...  \n",
       "2  [palácio, do, planalto, 27, de, agosto, de, 20...  \n",
       "3  [palácio, do, planalto, 21, de, junho, de, 201...  \n",
       "4  [recife, pe, 24, de, maio, de, 2019, é, uma, s...  "
      ]
     },
     "execution_count": 79,
     "metadata": {},
     "output_type": "execute_result"
    }
   ],
   "source": [
    "# tokenization reviews\n",
    "import nltk\n",
    "nltk.download('punkt')\n",
    "from nltk.tokenize import word_tokenize\n",
    "\n",
    "df['tokens'] = df.speech.map(word_tokenize)\n",
    "df.head()"
   ]
  },
  {
   "cell_type": "code",
   "execution_count": 84,
   "id": "isolated-petite",
   "metadata": {},
   "outputs": [
    {
     "name": "stdout",
     "output_type": "stream",
     "text": [
      "343204\n"
     ]
    },
    {
     "data": {
      "text/plain": [
       "['prezado',\n",
       " 'amigo',\n",
       " 'prezado',\n",
       " 'irmão',\n",
       " 'benjamin',\n",
       " 'netanyahu',\n",
       " 'há',\n",
       " 'dois',\n",
       " 'anos',\n",
       " 'estive']"
      ]
     },
     "execution_count": 84,
     "metadata": {},
     "output_type": "execute_result"
    }
   ],
   "source": [
    "# creating a list combining all tokens\n",
    "word_list = sum(df.tokens.tolist(), [])\n",
    "print(len(word_list))\n",
    "word_list[:10]"
   ]
  },
  {
   "cell_type": "code",
   "execution_count": 86,
   "id": "decent-young",
   "metadata": {},
   "outputs": [
    {
     "data": {
      "text/plain": [
       "[(12032, 'que'),\n",
       " (11144, 'de'),\n",
       " (10902, 'o'),\n",
       " (10424, 'a'),\n",
       " (9524, 'e'),\n",
       " (5670, 'do'),\n",
       " (4949, 'é'),\n",
       " (4894, 'para'),\n",
       " (4696, 'não'),\n",
       " (4010, 'um')]"
      ]
     },
     "execution_count": 86,
     "metadata": {},
     "output_type": "execute_result"
    }
   ],
   "source": [
    "# finding the most commun words\n",
    "\n",
    "from collections import Counter\n",
    "\n",
    "# converting the list in a dictionary with values count\n",
    "word_counts = Counter(word_list)\n",
    "\n",
    "# reverting the key / values in the dictionary to be able to sort\n",
    "word_counts = list(zip(word_counts.values(), word_counts.keys()))\n",
    "\n",
    "# sorting the list by count\n",
    "word_counts = sorted(word_counts, reverse=True)\n",
    "\n",
    "# print\n",
    "word_counts[:10]"
   ]
  },
  {
   "cell_type": "code",
   "execution_count": 87,
   "id": "least-coupon",
   "metadata": {},
   "outputs": [
    {
     "name": "stderr",
     "output_type": "stream",
     "text": [
      "[nltk_data] Downloading package stopwords to\n",
      "[nltk_data]     /home/blackmamba/nltk_data...\n",
      "[nltk_data]   Package stopwords is already up-to-date!\n"
     ]
    },
    {
     "data": {
      "text/html": [
       "<div>\n",
       "<style scoped>\n",
       "    .dataframe tbody tr th:only-of-type {\n",
       "        vertical-align: middle;\n",
       "    }\n",
       "\n",
       "    .dataframe tbody tr th {\n",
       "        vertical-align: top;\n",
       "    }\n",
       "\n",
       "    .dataframe thead th {\n",
       "        text-align: right;\n",
       "    }\n",
       "</style>\n",
       "<table border=\"1\" class=\"dataframe\">\n",
       "  <thead>\n",
       "    <tr style=\"text-align: right;\">\n",
       "      <th></th>\n",
       "      <th>date</th>\n",
       "      <th>title</th>\n",
       "      <th>speech</th>\n",
       "      <th>tokens</th>\n",
       "      <th>tokens_stop</th>\n",
       "    </tr>\n",
       "  </thead>\n",
       "  <tbody>\n",
       "    <tr>\n",
       "      <th>0</th>\n",
       "      <td>2019-03-31 14:17:00</td>\n",
       "      <td>Discurso do Presidente da República, Jair Bols...</td>\n",
       "      <td>\\nprezado amigo \\nprezado irmão  benjamin net...</td>\n",
       "      <td>[prezado, amigo, prezado, irmão, benjamin, net...</td>\n",
       "      <td>[prezado, amigo, prezado, irmão, benjamin, net...</td>\n",
       "    </tr>\n",
       "    <tr>\n",
       "      <th>1</th>\n",
       "      <td>2019-07-23 19:20:00</td>\n",
       "      <td>Discurso do Presidente da República, Jair Bols...</td>\n",
       "      <td>\\nbrasília df  23 de julho de 2019\\nmeus senho...</td>\n",
       "      <td>[brasília, df, 23, de, julho, de, 2019, meus, ...</td>\n",
       "      <td>[brasília, df, 23, julho, 2019, senhores, senh...</td>\n",
       "    </tr>\n",
       "    <tr>\n",
       "      <th>2</th>\n",
       "      <td>2019-08-27 18:01:00</td>\n",
       "      <td>Fala do Presidente da República, Jair Bolsonar...</td>\n",
       "      <td>palácio do planalto  27 de agosto de 2019\\n \\n...</td>\n",
       "      <td>[palácio, do, planalto, 27, de, agosto, de, 20...</td>\n",
       "      <td>[palácio, planalto, 27, agosto, 2019, senhores...</td>\n",
       "    </tr>\n",
       "    <tr>\n",
       "      <th>3</th>\n",
       "      <td>2019-06-21 16:42:00</td>\n",
       "      <td>Pronunciamento do Presidente da República, Jai...</td>\n",
       "      <td>palácio do planalto  21 de junho de 2019\\n \\n ...</td>\n",
       "      <td>[palácio, do, planalto, 21, de, junho, de, 201...</td>\n",
       "      <td>[palácio, planalto, 21, junho, 2019, bom, dia,...</td>\n",
       "    </tr>\n",
       "    <tr>\n",
       "      <th>4</th>\n",
       "      <td>2019-05-24 15:30:00</td>\n",
       "      <td>Discurso do Presidente da República, Jair Bols...</td>\n",
       "      <td>recife pe  24 de maio de 2019\\n \\n \\n \\né uma ...</td>\n",
       "      <td>[recife, pe, 24, de, maio, de, 2019, é, uma, s...</td>\n",
       "      <td>[recife, pe, 24, maio, 2019, satisfação, volta...</td>\n",
       "    </tr>\n",
       "  </tbody>\n",
       "</table>\n",
       "</div>"
      ],
      "text/plain": [
       "                 date                                              title  \\\n",
       "0 2019-03-31 14:17:00  Discurso do Presidente da República, Jair Bols...   \n",
       "1 2019-07-23 19:20:00  Discurso do Presidente da República, Jair Bols...   \n",
       "2 2019-08-27 18:01:00  Fala do Presidente da República, Jair Bolsonar...   \n",
       "3 2019-06-21 16:42:00  Pronunciamento do Presidente da República, Jai...   \n",
       "4 2019-05-24 15:30:00  Discurso do Presidente da República, Jair Bols...   \n",
       "\n",
       "                                              speech  \\\n",
       "0   \\nprezado amigo \\nprezado irmão  benjamin net...   \n",
       "1  \\nbrasília df  23 de julho de 2019\\nmeus senho...   \n",
       "2  palácio do planalto  27 de agosto de 2019\\n \\n...   \n",
       "3  palácio do planalto  21 de junho de 2019\\n \\n ...   \n",
       "4  recife pe  24 de maio de 2019\\n \\n \\n \\né uma ...   \n",
       "\n",
       "                                              tokens  \\\n",
       "0  [prezado, amigo, prezado, irmão, benjamin, net...   \n",
       "1  [brasília, df, 23, de, julho, de, 2019, meus, ...   \n",
       "2  [palácio, do, planalto, 27, de, agosto, de, 20...   \n",
       "3  [palácio, do, planalto, 21, de, junho, de, 201...   \n",
       "4  [recife, pe, 24, de, maio, de, 2019, é, uma, s...   \n",
       "\n",
       "                                         tokens_stop  \n",
       "0  [prezado, amigo, prezado, irmão, benjamin, net...  \n",
       "1  [brasília, df, 23, julho, 2019, senhores, senh...  \n",
       "2  [palácio, planalto, 27, agosto, 2019, senhores...  \n",
       "3  [palácio, planalto, 21, junho, 2019, bom, dia,...  \n",
       "4  [recife, pe, 24, maio, 2019, satisfação, volta...  "
      ]
     },
     "execution_count": 87,
     "metadata": {},
     "output_type": "execute_result"
    }
   ],
   "source": [
    "# Removing the stop words\n",
    "from nltk.corpus import stopwords\n",
    "nltk.download(\"stopwords\")\n",
    "\n",
    "stop_words = stopwords.words('portuguese')\n",
    "\n",
    "stop_lambda = lambda x: [y for y in x if y not in stop_words]\n",
    "df['tokens_stop'] = df.tokens.apply(stop_lambda)\n",
    "df.head()"
   ]
  },
  {
   "cell_type": "code",
   "execution_count": null,
   "id": "photographic-playback",
   "metadata": {},
   "outputs": [],
   "source": []
  }
 ],
 "metadata": {
  "kernelspec": {
   "display_name": "Python 3",
   "language": "python",
   "name": "python3"
  },
  "language_info": {
   "codemirror_mode": {
    "name": "ipython",
    "version": 3
   },
   "file_extension": ".py",
   "mimetype": "text/x-python",
   "name": "python",
   "nbconvert_exporter": "python",
   "pygments_lexer": "ipython3",
   "version": "3.8.6"
  }
 },
 "nbformat": 4,
 "nbformat_minor": 5
}
